{
  "nbformat": 4,
  "nbformat_minor": 0,
  "metadata": {
    "colab": {
      "provenance": []
    },
    "kernelspec": {
      "name": "python3",
      "display_name": "Python 3"
    },
    "language_info": {
      "name": "python"
    }
  },
  "cells": [
    {
      "cell_type": "code",
      "execution_count": null,
      "metadata": {
        "id": "0sZB16xQkuCS"
      },
      "outputs": [],
      "source": [
        "import pandas as pd\n",
        "\n",
        "# I didnt write the position on the excel\n",
        "# Because of it I am creating it in here\n",
        "index_range_0 = list(range(0, 35))\n",
        "index_range_1 = list(range(35, 70))\n",
        "index_range_2 = list(range(70, 104))\n",
        "\n",
        "# Create a DataFrame\n",
        "df = pd.DataFrame({'Inıtıal': [0] * len(index_range_0) + [1] * len(index_range_1) + [2] * len(index_range_2)},\n",
        "                  index=index_range_0 + index_range_1 + index_range_2)\n"
      ]
    },
    {
      "cell_type": "code",
      "source": [
        "data = pd.read_csv('/content/CoinData.csv',sep= ';')"
      ],
      "metadata": {
        "id": "JLsZEEPhk6pO"
      },
      "execution_count": null,
      "outputs": []
    },
    {
      "cell_type": "code",
      "source": [
        "Alldata = pd.concat([data,df],axis=1)"
      ],
      "metadata": {
        "id": "og33_gZjlmxP"
      },
      "execution_count": null,
      "outputs": []
    },
    {
      "cell_type": "code",
      "source": [
        "X = Alldata.drop(['Position','image'],axis=1)\n",
        "y = Alldata['Position']"
      ],
      "metadata": {
        "id": "vglQdNREnjX7"
      },
      "execution_count": null,
      "outputs": []
    },
    {
      "cell_type": "code",
      "source": [
        "import numpy as np\n",
        "from sklearn.model_selection import train_test_split\n",
        "from sklearn.preprocessing import StandardScaler\n",
        "from sklearn.metrics import accuracy_score\n",
        "from keras.models import Sequential\n",
        "from keras.layers import Dense, Dropout\n",
        "\n",
        "# Split the data into training and testing sets\n",
        "X_train, X_test, y_train, y_test = train_test_split(X, y, test_size=0.2, random_state=53)\n",
        "\n",
        "# Standardize the input\n",
        "scaler = StandardScaler()\n",
        "X_train = scaler.fit_transform(X_train)\n",
        "X_test = scaler.transform(X_test)\n",
        "\n",
        "# neural network model\n",
        "model = Sequential()\n",
        "model.add(Dense(8, input_dim=3, activation='relu'))\n",
        "model.add(Dropout(0.2))\n",
        "model.add(Dense(8, activation='relu'))\n",
        "model.add(Dropout(0.2))\n",
        "model.add(Dense(4, activation='relu'))\n",
        "model.add(Dropout(0.2))\n",
        "model.add(Dense(4, activation='relu'))\n",
        "model.add(Dropout(0.2))\n",
        "model.add(Dense(1, activation='sigmoid'))\n",
        "\n",
        "# Compile\n",
        "model.compile(optimizer='adam', loss='binary_crossentropy', metrics=['accuracy'])\n",
        "\n",
        "# Train\n",
        "model.fit(X_train, y_train, epochs=30, batch_size=6)\n",
        "\n",
        "# Evaluate\n",
        "y_pred = (model.predict(X_test) > 0.5).astype(int)\n",
        "accuracy = accuracy_score(y_test, y_pred)\n",
        "print(f\"Test Accuracy: {accuracy * 100:.2f}%\")\n"
      ],
      "metadata": {
        "colab": {
          "base_uri": "https://localhost:8080/"
        },
        "id": "pXpxHONmlzcf",
        "outputId": "9ce62494-bf69-4814-b0d6-c9280ae908e1"
      },
      "execution_count": null,
      "outputs": [
        {
          "output_type": "stream",
          "name": "stdout",
          "text": [
            "Epoch 1/30\n",
            "14/14 [==============================] - 1s 2ms/step - loss: 0.7624 - accuracy: 0.4940\n",
            "Epoch 2/30\n",
            "14/14 [==============================] - 0s 2ms/step - loss: 0.7349 - accuracy: 0.4699\n",
            "Epoch 3/30\n",
            "14/14 [==============================] - 0s 2ms/step - loss: 0.7688 - accuracy: 0.4578\n",
            "Epoch 4/30\n",
            "14/14 [==============================] - 0s 2ms/step - loss: 0.7345 - accuracy: 0.4940\n",
            "Epoch 5/30\n",
            "14/14 [==============================] - 0s 2ms/step - loss: 0.6961 - accuracy: 0.4578\n",
            "Epoch 6/30\n",
            "14/14 [==============================] - 0s 2ms/step - loss: 0.7119 - accuracy: 0.5422\n",
            "Epoch 7/30\n",
            "14/14 [==============================] - 0s 2ms/step - loss: 0.6997 - accuracy: 0.4458\n",
            "Epoch 8/30\n",
            "14/14 [==============================] - 0s 2ms/step - loss: 0.7117 - accuracy: 0.5060\n",
            "Epoch 9/30\n",
            "14/14 [==============================] - 0s 2ms/step - loss: 0.7105 - accuracy: 0.5181\n",
            "Epoch 10/30\n",
            "14/14 [==============================] - 0s 2ms/step - loss: 0.6967 - accuracy: 0.5181\n",
            "Epoch 11/30\n",
            "14/14 [==============================] - 0s 2ms/step - loss: 0.7007 - accuracy: 0.4699\n",
            "Epoch 12/30\n",
            "14/14 [==============================] - 0s 2ms/step - loss: 0.7058 - accuracy: 0.4940\n",
            "Epoch 13/30\n",
            "14/14 [==============================] - 0s 2ms/step - loss: 0.6731 - accuracy: 0.5663\n",
            "Epoch 14/30\n",
            "14/14 [==============================] - 0s 2ms/step - loss: 0.6875 - accuracy: 0.4819\n",
            "Epoch 15/30\n",
            "14/14 [==============================] - 0s 2ms/step - loss: 0.6949 - accuracy: 0.5301\n",
            "Epoch 16/30\n",
            "14/14 [==============================] - 0s 2ms/step - loss: 0.7112 - accuracy: 0.4337\n",
            "Epoch 17/30\n",
            "14/14 [==============================] - 0s 2ms/step - loss: 0.7061 - accuracy: 0.4699\n",
            "Epoch 18/30\n",
            "14/14 [==============================] - 0s 2ms/step - loss: 0.6953 - accuracy: 0.5301\n",
            "Epoch 19/30\n",
            "14/14 [==============================] - 0s 3ms/step - loss: 0.6989 - accuracy: 0.4819\n",
            "Epoch 20/30\n",
            "14/14 [==============================] - 0s 2ms/step - loss: 0.6961 - accuracy: 0.5422\n",
            "Epoch 21/30\n",
            "14/14 [==============================] - 0s 2ms/step - loss: 0.6894 - accuracy: 0.5181\n",
            "Epoch 22/30\n",
            "14/14 [==============================] - 0s 2ms/step - loss: 0.6938 - accuracy: 0.5422\n",
            "Epoch 23/30\n",
            "14/14 [==============================] - 0s 2ms/step - loss: 0.7011 - accuracy: 0.4819\n",
            "Epoch 24/30\n",
            "14/14 [==============================] - 0s 2ms/step - loss: 0.6962 - accuracy: 0.4940\n",
            "Epoch 25/30\n",
            "14/14 [==============================] - 0s 3ms/step - loss: 0.6737 - accuracy: 0.5301\n",
            "Epoch 26/30\n",
            "14/14 [==============================] - 0s 2ms/step - loss: 0.6869 - accuracy: 0.5422\n",
            "Epoch 27/30\n",
            "14/14 [==============================] - 0s 2ms/step - loss: 0.6719 - accuracy: 0.5181\n",
            "Epoch 28/30\n",
            "14/14 [==============================] - 0s 2ms/step - loss: 0.6861 - accuracy: 0.5301\n",
            "Epoch 29/30\n",
            "14/14 [==============================] - 0s 2ms/step - loss: 0.6727 - accuracy: 0.5422\n",
            "Epoch 30/30\n",
            "14/14 [==============================] - 0s 2ms/step - loss: 0.6874 - accuracy: 0.5181\n",
            "1/1 [==============================] - 0s 62ms/step\n",
            "Test Accuracy: 47.62%\n"
          ]
        }
      ]
    }
  ]
}